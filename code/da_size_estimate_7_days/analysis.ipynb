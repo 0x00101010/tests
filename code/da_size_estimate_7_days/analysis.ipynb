{
 "cells": [
  {
   "cell_type": "code",
   "execution_count": 9,
   "id": "adca7e8a-2263-43b3-bd70-f18200df3546",
   "metadata": {},
   "outputs": [
    {
     "name": "stdout",
     "output_type": "stream",
     "text": [
      "p50: 578.00\n",
      "p75: 854.00\n",
      "p90: 1255.00\n",
      "p95: 1683.00\n",
      "p99: 4736.16\n",
      "p99.9: 5996.82\n",
      "p99.99: 8576.30\n",
      "max: 12611\n"
     ]
    }
   ],
   "source": [
    "import pandas as pd\n",
    "\n",
    "df = pd.read_csv('bundler_txs.csv')\n",
    "\n",
    "percentiles = [50, 75, 90, 95, 99, 99.9, 99.99]\n",
    "results = df['compressed_size'].quantile(q=[p/100 for p in percentiles])\n",
    "max_value = df['compressed_size'].max()\n",
    "\n",
    "for p, value in zip(percentiles, results):\n",
    "    print(f'p{p}: {value:.2f}')\n",
    "\n",
    "print(f'max: {max_value}')"
   ]
  },
  {
   "cell_type": "code",
   "execution_count": 10,
   "id": "11242725-28ac-4348-a907-a60420c352b3",
   "metadata": {},
   "outputs": [
    {
     "name": "stdout",
     "output_type": "stream",
     "text": [
      "p50: 130.00\n",
      "p75: 213.00\n",
      "p90: 701.00\n",
      "p95: 1009.00\n",
      "p99: 1802.00\n",
      "p99.9: 4257.00\n",
      "p99.99: 39937.00\n",
      "max: 81618\n"
     ]
    }
   ],
   "source": [
    "df = pd.read_csv('all_txs.csv')\n",
    "\n",
    "percentiles = [50, 75, 90, 95, 99, 99.9, 99.99]\n",
    "results = df['compressed_size'].quantile(q=[p/100 for p in percentiles])\n",
    "max_value = df['compressed_size'].max()\n",
    "\n",
    "for p, value in zip(percentiles, results):\n",
    "    print(f'p{p}: {value:.2f}')\n",
    "\n",
    "print(f'max: {max_value}')"
   ]
  },
  {
   "cell_type": "code",
   "execution_count": 11,
   "id": "bc3db8e1-cc8f-4a7d-b1b1-69c3a9d4d369",
   "metadata": {},
   "outputs": [
    {
     "name": "stdout",
     "output_type": "stream",
     "text": [
      "p50: 514.00\n",
      "p75: 614.00\n",
      "p90: 858.00\n",
      "p95: 1054.00\n",
      "p99: 1663.00\n",
      "p99.9: 3264.87\n",
      "p99.99: 7928.98\n",
      "max: 12611\n"
     ]
    }
   ],
   "source": [
    "df = pd.read_csv('alchemy_bundler_txs.csv')\n",
    "\n",
    "percentiles = [50, 75, 90, 95, 99, 99.9, 99.99]\n",
    "results = df['compressed_size'].quantile(q=[p/100 for p in percentiles])\n",
    "max_value = df['compressed_size'].max()\n",
    "\n",
    "for p, value in zip(percentiles, results):\n",
    "    print(f'p{p}: {value:.2f}')\n",
    "\n",
    "print(f'max: {max_value}')"
   ]
  },
  {
   "cell_type": "code",
   "execution_count": 12,
   "id": "2a7bb4ee-9f57-400b-b0e2-9add98dcb365",
   "metadata": {},
   "outputs": [
    {
     "name": "stdout",
     "output_type": "stream",
     "text": [
      "p50: 580.00\n",
      "p75: 983.00\n",
      "p90: 1400.00\n",
      "p95: 1903.00\n",
      "p99: 4917.00\n",
      "p99.9: 6091.91\n",
      "p99.99: 8802.33\n",
      "max: 11169\n"
     ]
    }
   ],
   "source": [
    "df = pd.read_csv('cb_bundler_txs.csv')\n",
    "\n",
    "percentiles = [50, 75, 90, 95, 99, 99.9, 99.99]\n",
    "results = df['compressed_size'].quantile(q=[p/100 for p in percentiles])\n",
    "max_value = df['compressed_size'].max()\n",
    "\n",
    "for p, value in zip(percentiles, results):\n",
    "    print(f'p{p}: {value:.2f}')\n",
    "\n",
    "print(f'max: {max_value}')"
   ]
  },
  {
   "cell_type": "code",
   "execution_count": null,
   "id": "a5255214-ab18-4850-84ff-b15368aa6941",
   "metadata": {},
   "outputs": [],
   "source": []
  }
 ],
 "metadata": {
  "kernelspec": {
   "display_name": "Python 3 (ipykernel)",
   "language": "python",
   "name": "python3"
  },
  "language_info": {
   "codemirror_mode": {
    "name": "ipython",
    "version": 3
   },
   "file_extension": ".py",
   "mimetype": "text/x-python",
   "name": "python",
   "nbconvert_exporter": "python",
   "pygments_lexer": "ipython3",
   "version": "3.12.4"
  }
 },
 "nbformat": 4,
 "nbformat_minor": 5
}
